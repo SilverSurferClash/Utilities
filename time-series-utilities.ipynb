{
 "cells": [
  {
   "cell_type": "code",
   "execution_count": 1,
   "id": "f420ed06",
   "metadata": {
    "_cell_guid": "b1076dfc-b9ad-4769-8c92-a6c4dae69d19",
    "_uuid": "8f2839f25d086af736a60e9eeb907d3b93b6e0e5",
    "execution": {
     "iopub.execute_input": "2023-02-11T17:13:36.179018Z",
     "iopub.status.busy": "2023-02-11T17:13:36.178229Z",
     "iopub.status.idle": "2023-02-11T17:13:36.193288Z",
     "shell.execute_reply": "2023-02-11T17:13:36.192026Z"
    },
    "papermill": {
     "duration": 0.022652,
     "end_time": "2023-02-11T17:13:36.195979",
     "exception": false,
     "start_time": "2023-02-11T17:13:36.173327",
     "status": "completed"
    },
    "tags": []
   },
   "outputs": [
    {
     "name": "stdout",
     "output_type": "stream",
     "text": [
      "/kaggle/input/tabular-playground-series-jan-2022/sample_submission.csv\n",
      "/kaggle/input/tabular-playground-series-jan-2022/train.csv\n",
      "/kaggle/input/tabular-playground-series-jan-2022/test.csv\n"
     ]
    }
   ],
   "source": [
    "# This Python 3 environment comes with many helpful analytics libraries installed\n",
    "# It is defined by the kaggle/python Docker image: https://github.com/kaggle/docker-python\n",
    "# For example, here's several helpful packages to load\n",
    "\n",
    "import numpy as np # linear algebra\n",
    "import pandas as pd # data processing, CSV file I/O (e.g. pd.read_csv)\n",
    "\n",
    "# Input data files are available in the read-only \"../input/\" directory\n",
    "# For example, running this (by clicking run or pressing Shift+Enter) will list all files under the input directory\n",
    "\n",
    "import os\n",
    "for dirname, _, filenames in os.walk('/kaggle/input'):\n",
    "    for filename in filenames:\n",
    "        print(os.path.join(dirname, filename))\n",
    "\n",
    "# You can write up to 20GB to the current directory (/kaggle/working/) that gets preserved as output when you create a version using \"Save & Run All\" \n",
    "# You can also write temporary files to /kaggle/temp/, but they won't be saved outside of the current session"
   ]
  },
  {
   "cell_type": "code",
   "execution_count": 2,
   "id": "929799f3",
   "metadata": {
    "execution": {
     "iopub.execute_input": "2023-02-11T17:13:36.201989Z",
     "iopub.status.busy": "2023-02-11T17:13:36.201576Z",
     "iopub.status.idle": "2023-02-11T17:13:37.153788Z",
     "shell.execute_reply": "2023-02-11T17:13:37.152523Z"
    },
    "papermill": {
     "duration": 0.958335,
     "end_time": "2023-02-11T17:13:37.156697",
     "exception": false,
     "start_time": "2023-02-11T17:13:36.198362",
     "status": "completed"
    },
    "tags": []
   },
   "outputs": [],
   "source": [
    "import numpy as np # linear algebra\n",
    "import pandas as pd # data processing, CSV file I/O (e.g. pd.read_csv)\n",
    "import os\n",
    "\n",
    "import matplotlib.pyplot as plt\n",
    "import seaborn as sns"
   ]
  },
  {
   "cell_type": "code",
   "execution_count": 3,
   "id": "3cd2f271",
   "metadata": {
    "execution": {
     "iopub.execute_input": "2023-02-11T17:13:37.163078Z",
     "iopub.status.busy": "2023-02-11T17:13:37.162454Z",
     "iopub.status.idle": "2023-02-11T17:13:37.224452Z",
     "shell.execute_reply": "2023-02-11T17:13:37.223468Z"
    },
    "papermill": {
     "duration": 0.068087,
     "end_time": "2023-02-11T17:13:37.227001",
     "exception": false,
     "start_time": "2023-02-11T17:13:37.158914",
     "status": "completed"
    },
    "tags": []
   },
   "outputs": [],
   "source": [
    "train = pd.read_csv(\"/kaggle/input/tabular-playground-series-jan-2022/train.csv\")"
   ]
  },
  {
   "cell_type": "code",
   "execution_count": null,
   "id": "0e561477",
   "metadata": {
    "papermill": {
     "duration": 0.00182,
     "end_time": "2023-02-11T17:13:37.231065",
     "exception": false,
     "start_time": "2023-02-11T17:13:37.229245",
     "status": "completed"
    },
    "tags": []
   },
   "outputs": [],
   "source": []
  }
 ],
 "metadata": {
  "kernelspec": {
   "display_name": "Python 3",
   "language": "python",
   "name": "python3"
  },
  "language_info": {
   "codemirror_mode": {
    "name": "ipython",
    "version": 3
   },
   "file_extension": ".py",
   "mimetype": "text/x-python",
   "name": "python",
   "nbconvert_exporter": "python",
   "pygments_lexer": "ipython3",
   "version": "3.7.12"
  },
  "papermill": {
   "default_parameters": {},
   "duration": 10.149376,
   "end_time": "2023-02-11T17:13:37.953932",
   "environment_variables": {},
   "exception": null,
   "input_path": "__notebook__.ipynb",
   "output_path": "__notebook__.ipynb",
   "parameters": {},
   "start_time": "2023-02-11T17:13:27.804556",
   "version": "2.3.4"
  }
 },
 "nbformat": 4,
 "nbformat_minor": 5
}
